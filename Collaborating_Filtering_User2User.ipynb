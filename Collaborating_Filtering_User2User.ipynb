{
 "cells": [
  {
   "cell_type": "code",
   "execution_count": 90,
   "metadata": {},
   "outputs": [],
   "source": [
    "import numpy as np\n",
    "import pandas as pd\n",
    "import scipy.sparse as sp\n",
    "from time import time\n",
    "from scipy.sparse import csr_matrix\n",
    "from sklearn.metrics.pairwise import cosine_distances\n",
    "\n",
    "from data_loader import load_ratings, load_user_item_matrix"
   ]
  },
  {
   "cell_type": "markdown",
   "metadata": {},
   "source": [
    "### User/item matrix loading"
   ]
  },
  {
   "cell_type": "code",
   "execution_count": 5,
   "metadata": {},
   "outputs": [
    {
     "name": "stdout",
     "output_type": "stream",
     "text": [
      "User item matrix shape:  (138493, 26744)\n"
     ]
    }
   ],
   "source": [
    "user_item = load_user_item_matrix()\n",
    "print('User item matrix shape: ', user_item.shape)"
   ]
  },
  {
   "cell_type": "markdown",
   "metadata": {},
   "source": [
    "### User-user collaborative filtering"
   ]
  },
  {
   "cell_type": "code",
   "execution_count": 111,
   "metadata": {},
   "outputs": [],
   "source": [
    "def calculate_distances(U, UI):\n",
    "    return np.array(U.dot(UI.T) / np.sqrt(np.sum(U.power(2), axis=1).reshape(-1, 1) * np.sum(UI.power(2), axis=1).reshape(1, -1)))\n",
    "\n",
    "def predict_user_item_values(U, UI, k=5, report_progress=True):\n",
    "    start_time = time()\n",
    "    D = calculate_distances(U, UI)\n",
    "    res = np.zeros(shape=(U.shape[0], UI.shape[1]))\n",
    "    for movie_id in range(UI.shape[1]):\n",
    "        movie_mask = (UI[:, movie_id] != 0).T.toarray()\n",
    "        masked_distances = np.where(movie_mask, D, 0)\n",
    "        topk = np.argpartition(masked_distances, -k, axis=1)[:, -k:]\n",
    "        predicted_ratings = np.mean(UI[topk, movie_id].toarray(), axis=1)\n",
    "        res[:, movie_id] = predicted_ratings\n",
    "        if report_progress and movie_id % 1000 == 0:\n",
    "            percentage = float(100) * movie_id // UI.shape[1]\n",
    "            time_elapsed = time() - start_time\n",
    "            total_time = float(100) * time_elapsed / percentage if percentage > 0 else float('nan')\n",
    "            total_min = total_time / 60\n",
    "            total_sec = total_time % 60\n",
    "            time_left = total_time - time_elapsed\n",
    "            min_left = time_left / 60\n",
    "            sec_left = time_left % 60\n",
    "            print(f'{percentage}% after {time_elapsed:.2f} s, estimated total time: {total_min:.2f} min {total_sec:.2f} sec, etl: {min_left:.2f} min {sec_left:.2f}')\n",
    "    return res"
   ]
  },
  {
   "cell_type": "code",
   "execution_count": 113,
   "metadata": {},
   "outputs": [
    {
     "name": "stdout",
     "output_type": "stream",
     "text": [
      "0.0% after 0.93 s, estimated total time: nan min nan sec, etl: nan min nan\n",
      "3.0% after 43.99 s, estimated total time: 24.44 min 26.39 sec, etl: 23.71 min 42.39\n",
      "7.0% after 87.18 s, estimated total time: 20.76 min 45.43 sec, etl: 19.30 min 18.25\n",
      "11.0% after 129.13 s, estimated total time: 19.56 min 33.87 sec, etl: 17.41 min 24.74\n",
      "14.0% after 169.58 s, estimated total time: 20.19 min 11.30 sec, etl: 17.36 min 21.72\n",
      "18.0% after 208.49 s, estimated total time: 19.30 min 18.26 sec, etl: 15.83 min 49.77\n",
      "22.0% after 246.49 s, estimated total time: 18.67 min 40.40 sec, etl: 14.57 min 33.91\n",
      "26.0% after 284.19 s, estimated total time: 18.22 min 13.03 sec, etl: 13.48 min 28.85\n",
      "29.0% after 321.04 s, estimated total time: 18.45 min 27.05 sec, etl: 13.10 min 6.01\n",
      "33.0% after 357.17 s, estimated total time: 18.04 min 2.34 sec, etl: 12.09 min 5.17\n",
      "37.0% after 393.21 s, estimated total time: 17.71 min 42.74 sec, etl: 11.16 min 9.53\n",
      "41.0% after 428.93 s, estimated total time: 17.44 min 26.18 sec, etl: 10.29 min 17.24\n",
      "44.0% after 464.17 s, estimated total time: 17.58 min 34.92 sec, etl: 9.85 min 50.76\n",
      "48.0% after 498.85 s, estimated total time: 17.32 min 19.27 sec, etl: 9.01 min 0.42\n",
      "52.0% after 533.09 s, estimated total time: 17.09 min 5.17 sec, etl: 8.20 min 12.08\n",
      "56.0% after 566.75 s, estimated total time: 16.87 min 52.06 sec, etl: 7.42 min 25.31\n",
      "59.0% after 600.36 s, estimated total time: 16.96 min 57.57 sec, etl: 6.95 min 57.20\n",
      "63.0% after 633.60 s, estimated total time: 16.76 min 45.71 sec, etl: 6.20 min 12.11\n",
      "67.0% after 666.59 s, estimated total time: 16.58 min 34.91 sec, etl: 5.47 min 28.32\n",
      "71.0% after 699.38 s, estimated total time: 16.42 min 25.04 sec, etl: 4.76 min 45.66\n",
      "74.0% after 732.08 s, estimated total time: 16.49 min 29.29 sec, etl: 4.29 min 17.22\n",
      "78.0% after 764.74 s, estimated total time: 16.34 min 20.44 sec, etl: 3.59 min 35.70\n",
      "82.0% after 797.20 s, estimated total time: 16.20 min 12.20 sec, etl: 2.92 min 55.00\n",
      "86.0% after 829.59 s, estimated total time: 16.08 min 4.64 sec, etl: 2.25 min 15.05\n",
      "89.0% after 861.99 s, estimated total time: 16.14 min 8.53 sec, etl: 1.78 min 46.54\n",
      "93.0% after 898.79 s, estimated total time: 16.11 min 6.44 sec, etl: 1.13 min 7.65\n",
      "97.0% after 931.14 s, estimated total time: 16.00 min 59.94 sec, etl: 0.48 min 28.80\n"
     ]
    }
   ],
   "source": [
    "predicted = predict_user_item_values(user_item[:10], user_item[10:])"
   ]
  },
  {
   "cell_type": "code",
   "execution_count": 136,
   "metadata": {},
   "outputs": [
    {
     "data": {
      "text/plain": [
       "4.1"
      ]
     },
     "execution_count": 136,
     "metadata": {},
     "output_type": "execute_result"
    }
   ],
   "source": []
  }
 ],
 "metadata": {
  "kernelspec": {
   "display_name": "Python 3",
   "language": "python",
   "name": "python3"
  },
  "language_info": {
   "codemirror_mode": {
    "name": "ipython",
    "version": 3
   },
   "file_extension": ".py",
   "mimetype": "text/x-python",
   "name": "python",
   "nbconvert_exporter": "python",
   "pygments_lexer": "ipython3",
   "version": "3.6.5"
  }
 },
 "nbformat": 4,
 "nbformat_minor": 2
}
