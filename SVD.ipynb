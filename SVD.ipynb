{
 "cells": [
  {
   "cell_type": "code",
   "execution_count": 6,
   "metadata": {},
   "outputs": [],
   "source": [
    "import numpy as np\n",
    "import pandas as pd\n",
    "import scipy.sparse as sp\n",
    "from time import time\n",
    "from scipy import sparse\n",
    "from scipy.sparse import csr_matrix\n",
    "from sklearn.metrics.pairwise import cosine_distances\n",
    "\n",
    "from data_loader import load_ratings, load_user_item_matrix\n",
    "\n",
    "import matplotlib.pyplot as plt\n",
    "%matplotlib inline"
   ]
  },
  {
   "cell_type": "code",
   "execution_count": 2,
   "metadata": {},
   "outputs": [
    {
     "name": "stdout",
     "output_type": "stream",
     "text": [
      "User item matrix shape:  (138493, 26744)\n"
     ]
    }
   ],
   "source": [
    "user_item = load_user_item_matrix()\n",
    "print('User item matrix shape: ', user_item.shape)"
   ]
  },
  {
   "cell_type": "code",
   "execution_count": 3,
   "metadata": {},
   "outputs": [
    {
     "data": {
      "text/plain": [
       "<138493x26744 sparse matrix of type '<class 'numpy.float64'>'\n",
       "\twith 20000263 stored elements in Compressed Sparse Row format>"
      ]
     },
     "execution_count": 3,
     "metadata": {},
     "output_type": "execute_result"
    }
   ],
   "source": [
    "user_item"
   ]
  },
  {
   "cell_type": "markdown",
   "metadata": {},
   "source": [
    "## Singular Value Decomposition"
   ]
  },
  {
   "cell_type": "code",
   "execution_count": 12,
   "metadata": {},
   "outputs": [],
   "source": [
    "def SVD(U, n_factors=10, alpha=.001, n_epochs=5):\n",
    "\n",
    "    N,M = user_item.shape\n",
    "    #print(N,M)\n",
    "    p = np.random.normal(2.5, 1, (N, n_factors))\n",
    "    q = np.random.normal(2.5, 1, (M, n_factors))\n",
    "    data = np.vstack(sparse.find(user_item)).T\n",
    "    #print(data.shape[0])\n",
    "    for e in range(n_epochs):\n",
    "        print('epoch:', e)\n",
    "        err_s = np.zeros(data.shape[0])\n",
    "        k = 0\n",
    "        for i,j,uij in data:\n",
    "            i = int(i)\n",
    "            j = int(j)\n",
    "            err = uij - np.dot(p[i], q[j])\n",
    "            err_s[k] = err\n",
    "            k += 1\n",
    "            p[i] += alpha * err * q[j]\n",
    "            q[j] += alpha * err * p[i]\n",
    "        print('mean error:', np.abs(err_s).mean(), '\\nerror std:', np.std(err_s))\n",
    "    return p,q"
   ]
  },
  {
   "cell_type": "code",
   "execution_count": 13,
   "metadata": {},
   "outputs": [
    {
     "name": "stdout",
     "output_type": "stream",
     "text": [
      "epoch: 0\n",
      "mean error: 1.81779083197 \n",
      "error std: 4.68679657451\n"
     ]
    }
   ],
   "source": [
    "p,q = SVD(user_item, n_epochs=1, alpha=0.001)"
   ]
  },
  {
   "cell_type": "code",
   "execution_count": null,
   "metadata": {},
   "outputs": [],
   "source": []
  }
 ],
 "metadata": {
  "kernelspec": {
   "display_name": "Python 3",
   "language": "python",
   "name": "python3"
  },
  "language_info": {
   "codemirror_mode": {
    "name": "ipython",
    "version": 3
   },
   "file_extension": ".py",
   "mimetype": "text/x-python",
   "name": "python",
   "nbconvert_exporter": "python",
   "pygments_lexer": "ipython3",
   "version": "3.4.3"
  }
 },
 "nbformat": 4,
 "nbformat_minor": 2
}
