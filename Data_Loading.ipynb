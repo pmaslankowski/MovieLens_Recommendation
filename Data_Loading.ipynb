{
 "cells": [
  {
   "cell_type": "code",
   "execution_count": 1,
   "metadata": {},
   "outputs": [],
   "source": [
    "import numpy as np\n",
    "import pandas as pd\n",
    "from scipy.sparse import csr_matrix\n",
    "\n",
    "from data_loader import load_ratings, load_user_item_matrix"
   ]
  },
  {
   "cell_type": "markdown",
   "metadata": {},
   "source": [
    "### Ratings loading"
   ]
  },
  {
   "cell_type": "code",
   "execution_count": 2,
   "metadata": {},
   "outputs": [
    {
     "name": "stdout",
     "output_type": "stream",
     "text": [
      "Basic statistics\n",
      "Number of movies: 26744\n",
      "Number of users: 138493\n",
      "Ratings table:\n"
     ]
    },
    {
     "data": {
      "text/html": [
       "<div>\n",
       "<style scoped>\n",
       "    .dataframe tbody tr th:only-of-type {\n",
       "        vertical-align: middle;\n",
       "    }\n",
       "\n",
       "    .dataframe tbody tr th {\n",
       "        vertical-align: top;\n",
       "    }\n",
       "\n",
       "    .dataframe thead th {\n",
       "        text-align: right;\n",
       "    }\n",
       "</style>\n",
       "<table border=\"1\" class=\"dataframe\">\n",
       "  <thead>\n",
       "    <tr style=\"text-align: right;\">\n",
       "      <th></th>\n",
       "      <th>userId</th>\n",
       "      <th>movieId</th>\n",
       "      <th>rating</th>\n",
       "      <th>timestamp</th>\n",
       "    </tr>\n",
       "  </thead>\n",
       "  <tbody>\n",
       "    <tr>\n",
       "      <th>0</th>\n",
       "      <td>1</td>\n",
       "      <td>2</td>\n",
       "      <td>3.5</td>\n",
       "      <td>1112486027</td>\n",
       "    </tr>\n",
       "    <tr>\n",
       "      <th>1</th>\n",
       "      <td>1</td>\n",
       "      <td>29</td>\n",
       "      <td>3.5</td>\n",
       "      <td>1112484676</td>\n",
       "    </tr>\n",
       "    <tr>\n",
       "      <th>2</th>\n",
       "      <td>1</td>\n",
       "      <td>32</td>\n",
       "      <td>3.5</td>\n",
       "      <td>1112484819</td>\n",
       "    </tr>\n",
       "    <tr>\n",
       "      <th>3</th>\n",
       "      <td>1</td>\n",
       "      <td>47</td>\n",
       "      <td>3.5</td>\n",
       "      <td>1112484727</td>\n",
       "    </tr>\n",
       "    <tr>\n",
       "      <th>4</th>\n",
       "      <td>1</td>\n",
       "      <td>50</td>\n",
       "      <td>3.5</td>\n",
       "      <td>1112484580</td>\n",
       "    </tr>\n",
       "  </tbody>\n",
       "</table>\n",
       "</div>"
      ],
      "text/plain": [
       "   userId  movieId  rating   timestamp\n",
       "0       1        2     3.5  1112486027\n",
       "1       1       29     3.5  1112484676\n",
       "2       1       32     3.5  1112484819\n",
       "3       1       47     3.5  1112484727\n",
       "4       1       50     3.5  1112484580"
      ]
     },
     "execution_count": 2,
     "metadata": {},
     "output_type": "execute_result"
    }
   ],
   "source": [
    "ratings = load_ratings()\n",
    "print('Basic statistics')\n",
    "print('Number of movies:', ratings['movieId'].unique().shape[0])\n",
    "print('Number of users:', ratings['userId'].unique().shape[0])\n",
    "print('Ratings table:')\n",
    "ratings.head()"
   ]
  },
  {
   "cell_type": "markdown",
   "metadata": {},
   "source": [
    "### User/item matrix loading"
   ]
  },
  {
   "cell_type": "code",
   "execution_count": 6,
   "metadata": {},
   "outputs": [
    {
     "name": "stdout",
     "output_type": "stream",
     "text": [
      "User item matrix shape:  (138493, 26744)\n",
      "  (0, 1)\t3.5\n",
      "  (0, 28)\t3.5\n",
      "  (0, 31)\t3.5\n",
      "  (0, 46)\t3.5\n",
      "  (0, 49)\t3.5\n",
      "  (0, 110)\t3.5\n",
      "  (0, 149)\t4.0\n",
      "  (0, 220)\t4.0\n",
      "  (0, 250)\t4.0\n",
      "  (0, 257)\t4.0\n",
      "  (0, 290)\t4.0\n",
      "  (0, 293)\t4.0\n",
      "  (0, 315)\t4.0\n",
      "  (0, 333)\t3.5\n",
      "  (0, 363)\t3.5\n",
      "  (0, 537)\t4.0\n",
      "  (0, 583)\t3.5\n",
      "  (0, 587)\t3.5\n",
      "  (0, 645)\t3.0\n",
      "  (0, 902)\t3.5\n",
      "  (0, 907)\t3.5\n",
      "  (0, 990)\t3.5\n",
      "  (0, 1017)\t4.0\n",
      "  (0, 1057)\t4.0\n",
      "  (0, 1058)\t3.5\n",
      "  :\t:\n",
      "  (138492, 11848)\t4.0\n",
      "  (138492, 11862)\t4.0\n",
      "  (138492, 11863)\t3.0\n",
      "  (138492, 11882)\t4.0\n",
      "  (138492, 11901)\t4.0\n",
      "  (138492, 11962)\t4.5\n",
      "  (138492, 12129)\t5.0\n",
      "  (138492, 12205)\t5.0\n",
      "  (138492, 12311)\t3.0\n",
      "  (138492, 12318)\t3.0\n",
      "  (138492, 12555)\t4.5\n",
      "  (138492, 12621)\t4.0\n",
      "  (138492, 12674)\t3.0\n",
      "  (138492, 12681)\t5.0\n",
      "  (138492, 12736)\t4.0\n",
      "  (138492, 12865)\t4.5\n",
      "  (138492, 12916)\t4.0\n",
      "  (138492, 13346)\t4.5\n",
      "  (138492, 13485)\t4.5\n",
      "  (138492, 13664)\t4.5\n",
      "  (138492, 13754)\t4.5\n",
      "  (138492, 13862)\t4.5\n",
      "  (138492, 13875)\t3.0\n",
      "  (138492, 13993)\t5.0\n",
      "  (138492, 14277)\t2.5\n"
     ]
    }
   ],
   "source": [
    "user_item = load_user_item_matrix()\n",
    "print('User item matrix shape: ', user_item.shape)\n",
    "print(user_item)"
   ]
  }
 ],
 "metadata": {
  "kernelspec": {
   "display_name": "Python 3",
   "language": "python",
   "name": "python3"
  },
  "language_info": {
   "codemirror_mode": {
    "name": "ipython",
    "version": 3
   },
   "file_extension": ".py",
   "mimetype": "text/x-python",
   "name": "python",
   "nbconvert_exporter": "python",
   "pygments_lexer": "ipython3",
   "version": "3.6.5"
  }
 },
 "nbformat": 4,
 "nbformat_minor": 2
}
